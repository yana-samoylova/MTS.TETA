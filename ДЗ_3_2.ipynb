{
  "nbformat": 4,
  "nbformat_minor": 0,
  "metadata": {
    "colab": {
      "name": "ДЗ-3.2.ipynb",
      "provenance": [],
      "collapsed_sections": []
    },
    "kernelspec": {
      "name": "python3",
      "display_name": "Python 3"
    },
    "language_info": {
      "name": "python"
    }
  },
  "cells": [
    {
      "cell_type": "markdown",
      "metadata": {
        "id": "qQ_htDkE0aaN"
      },
      "source": [
        "##Прогнозирование оотока клиентов телеком оператора (построение улучшенной модели и ее валидация)"
      ]
    },
    {
      "cell_type": "code",
      "metadata": {
        "id": "LgfhzKXe5vwE"
      },
      "source": [
        "import numpy as np\n",
        "import pandas as pd\n",
        "%matplotlib inline\n",
        "import matplotlib.pyplot as plt\n",
        "import seaborn as sns\n",
        "\n",
        "from sklearn.ensemble import RandomForestClassifier\n",
        "from sklearn.model_selection import cross_val_score, GridSearchCV, train_test_split\n",
        "from sklearn.metrics import accuracy_score, roc_auc_score, confusion_matrix, f1_score, precision_score, recall_score\n",
        "from xgboost import XGBClassifier\n",
        "from sklearn.preprocessing import LabelEncoder"
      ],
      "execution_count": 1,
      "outputs": []
    },
    {
      "cell_type": "code",
      "metadata": {
        "colab": {
          "base_uri": "https://localhost:8080/",
          "height": 232
        },
        "id": "65objZRm8edf",
        "outputId": "3ac0d60b-2011-479b-bd74-098ab61bab53"
      },
      "source": [
        "#Загружаем датасет\n",
        "\n",
        "url = 'https://drive.google.com/file/d/1_gvIy2MoOTeX4oEk8xaa_1Wo1wwnEjS-/view?usp=sharing'\n",
        "url2 = 'https://drive.google.com/uc?id='+ url.split('/')[-2]\n",
        "df = pd.read_csv(url2)\n",
        "df.head()"
      ],
      "execution_count": 2,
      "outputs": [
        {
          "output_type": "execute_result",
          "data": {
            "text/html": [
              "<div>\n",
              "<style scoped>\n",
              "    .dataframe tbody tr th:only-of-type {\n",
              "        vertical-align: middle;\n",
              "    }\n",
              "\n",
              "    .dataframe tbody tr th {\n",
              "        vertical-align: top;\n",
              "    }\n",
              "\n",
              "    .dataframe thead th {\n",
              "        text-align: right;\n",
              "    }\n",
              "</style>\n",
              "<table border=\"1\" class=\"dataframe\">\n",
              "  <thead>\n",
              "    <tr style=\"text-align: right;\">\n",
              "      <th></th>\n",
              "      <th>State</th>\n",
              "      <th>Account length</th>\n",
              "      <th>Area code</th>\n",
              "      <th>International plan</th>\n",
              "      <th>Voice mail plan</th>\n",
              "      <th>Number vmail messages</th>\n",
              "      <th>Total day minutes</th>\n",
              "      <th>Total day calls</th>\n",
              "      <th>Total day charge</th>\n",
              "      <th>Total eve minutes</th>\n",
              "      <th>Total eve calls</th>\n",
              "      <th>Total eve charge</th>\n",
              "      <th>Total night minutes</th>\n",
              "      <th>Total night calls</th>\n",
              "      <th>Total night charge</th>\n",
              "      <th>Total intl minutes</th>\n",
              "      <th>Total intl calls</th>\n",
              "      <th>Total intl charge</th>\n",
              "      <th>Customer service calls</th>\n",
              "      <th>Churn</th>\n",
              "    </tr>\n",
              "  </thead>\n",
              "  <tbody>\n",
              "    <tr>\n",
              "      <th>0</th>\n",
              "      <td>KS</td>\n",
              "      <td>128</td>\n",
              "      <td>415</td>\n",
              "      <td>No</td>\n",
              "      <td>Yes</td>\n",
              "      <td>25</td>\n",
              "      <td>265.1</td>\n",
              "      <td>110</td>\n",
              "      <td>45.07</td>\n",
              "      <td>197.4</td>\n",
              "      <td>99</td>\n",
              "      <td>16.78</td>\n",
              "      <td>244.7</td>\n",
              "      <td>91</td>\n",
              "      <td>11.01</td>\n",
              "      <td>10.0</td>\n",
              "      <td>3</td>\n",
              "      <td>2.70</td>\n",
              "      <td>1</td>\n",
              "      <td>False</td>\n",
              "    </tr>\n",
              "    <tr>\n",
              "      <th>1</th>\n",
              "      <td>OH</td>\n",
              "      <td>107</td>\n",
              "      <td>415</td>\n",
              "      <td>No</td>\n",
              "      <td>Yes</td>\n",
              "      <td>26</td>\n",
              "      <td>161.6</td>\n",
              "      <td>123</td>\n",
              "      <td>27.47</td>\n",
              "      <td>195.5</td>\n",
              "      <td>103</td>\n",
              "      <td>16.62</td>\n",
              "      <td>254.4</td>\n",
              "      <td>103</td>\n",
              "      <td>11.45</td>\n",
              "      <td>13.7</td>\n",
              "      <td>3</td>\n",
              "      <td>3.70</td>\n",
              "      <td>1</td>\n",
              "      <td>False</td>\n",
              "    </tr>\n",
              "    <tr>\n",
              "      <th>2</th>\n",
              "      <td>NJ</td>\n",
              "      <td>137</td>\n",
              "      <td>415</td>\n",
              "      <td>No</td>\n",
              "      <td>No</td>\n",
              "      <td>0</td>\n",
              "      <td>243.4</td>\n",
              "      <td>114</td>\n",
              "      <td>41.38</td>\n",
              "      <td>121.2</td>\n",
              "      <td>110</td>\n",
              "      <td>10.30</td>\n",
              "      <td>162.6</td>\n",
              "      <td>104</td>\n",
              "      <td>7.32</td>\n",
              "      <td>12.2</td>\n",
              "      <td>5</td>\n",
              "      <td>3.29</td>\n",
              "      <td>0</td>\n",
              "      <td>False</td>\n",
              "    </tr>\n",
              "    <tr>\n",
              "      <th>3</th>\n",
              "      <td>OH</td>\n",
              "      <td>84</td>\n",
              "      <td>408</td>\n",
              "      <td>Yes</td>\n",
              "      <td>No</td>\n",
              "      <td>0</td>\n",
              "      <td>299.4</td>\n",
              "      <td>71</td>\n",
              "      <td>50.90</td>\n",
              "      <td>61.9</td>\n",
              "      <td>88</td>\n",
              "      <td>5.26</td>\n",
              "      <td>196.9</td>\n",
              "      <td>89</td>\n",
              "      <td>8.86</td>\n",
              "      <td>6.6</td>\n",
              "      <td>7</td>\n",
              "      <td>1.78</td>\n",
              "      <td>2</td>\n",
              "      <td>False</td>\n",
              "    </tr>\n",
              "    <tr>\n",
              "      <th>4</th>\n",
              "      <td>OK</td>\n",
              "      <td>75</td>\n",
              "      <td>415</td>\n",
              "      <td>Yes</td>\n",
              "      <td>No</td>\n",
              "      <td>0</td>\n",
              "      <td>166.7</td>\n",
              "      <td>113</td>\n",
              "      <td>28.34</td>\n",
              "      <td>148.3</td>\n",
              "      <td>122</td>\n",
              "      <td>12.61</td>\n",
              "      <td>186.9</td>\n",
              "      <td>121</td>\n",
              "      <td>8.41</td>\n",
              "      <td>10.1</td>\n",
              "      <td>3</td>\n",
              "      <td>2.73</td>\n",
              "      <td>3</td>\n",
              "      <td>False</td>\n",
              "    </tr>\n",
              "  </tbody>\n",
              "</table>\n",
              "</div>"
            ],
            "text/plain": [
              "  State  Account length  ...  Customer service calls  Churn\n",
              "0    KS             128  ...                       1  False\n",
              "1    OH             107  ...                       1  False\n",
              "2    NJ             137  ...                       0  False\n",
              "3    OH              84  ...                       2  False\n",
              "4    OK              75  ...                       3  False\n",
              "\n",
              "[5 rows x 20 columns]"
            ]
          },
          "metadata": {},
          "execution_count": 2
        }
      ]
    },
    {
      "cell_type": "code",
      "metadata": {
        "id": "MvbpRuOd5vwc"
      },
      "source": [
        "df[\"Churn\"] = df[\"Churn\"].astype(\"int64\")\n",
        "d = {\"No\": False, \"Yes\": True}\n",
        "df[\"International plan\"] = df[\"International plan\"].map(d)\n",
        "df[\"Voice mail plan\"] = df[\"Voice mail plan\"].map(d)\n"
      ],
      "execution_count": 3,
      "outputs": []
    },
    {
      "cell_type": "markdown",
      "metadata": {
        "id": "xSru4cUR1ACk"
      },
      "source": [
        "Чтобы оценивать результат с течением времени, было принято решение, ввести новый признак Lifetime - время от начала заключения договора до даты выгрузки данных. "
      ]
    },
    {
      "cell_type": "code",
      "metadata": {
        "colab": {
          "base_uri": "https://localhost:8080/",
          "height": 232
        },
        "id": "9fz17flVMnin",
        "outputId": "f7435aa0-0c06-4c15-adfb-25c83f70a368"
      },
      "source": [
        "#Добавим новый временной признак Lifetime\n",
        "\n",
        "np.random.seed(42)\n",
        "n_churn = len(df[df['Churn']==1])\n",
        "noise = df[df['Churn']==0]['Account length'].max() // 3\n",
        "df['Lifetime'] = df['Account length']\n",
        "df.loc[df['Churn']==1, ['Lifetime']] = df[df['Churn']==1]['Lifetime'] + pd.Series(np.round(np.random.uniform(0, noise, n_churn*8)))\n",
        "df['Lifetime'] = df['Lifetime'].astype(\"int64\")\n",
        "df[df['Churn']==1].head()"
      ],
      "execution_count": 4,
      "outputs": [
        {
          "output_type": "execute_result",
          "data": {
            "text/html": [
              "<div>\n",
              "<style scoped>\n",
              "    .dataframe tbody tr th:only-of-type {\n",
              "        vertical-align: middle;\n",
              "    }\n",
              "\n",
              "    .dataframe tbody tr th {\n",
              "        vertical-align: top;\n",
              "    }\n",
              "\n",
              "    .dataframe thead th {\n",
              "        text-align: right;\n",
              "    }\n",
              "</style>\n",
              "<table border=\"1\" class=\"dataframe\">\n",
              "  <thead>\n",
              "    <tr style=\"text-align: right;\">\n",
              "      <th></th>\n",
              "      <th>State</th>\n",
              "      <th>Account length</th>\n",
              "      <th>Area code</th>\n",
              "      <th>International plan</th>\n",
              "      <th>Voice mail plan</th>\n",
              "      <th>Number vmail messages</th>\n",
              "      <th>Total day minutes</th>\n",
              "      <th>Total day calls</th>\n",
              "      <th>Total day charge</th>\n",
              "      <th>Total eve minutes</th>\n",
              "      <th>Total eve calls</th>\n",
              "      <th>Total eve charge</th>\n",
              "      <th>Total night minutes</th>\n",
              "      <th>Total night calls</th>\n",
              "      <th>Total night charge</th>\n",
              "      <th>Total intl minutes</th>\n",
              "      <th>Total intl calls</th>\n",
              "      <th>Total intl charge</th>\n",
              "      <th>Customer service calls</th>\n",
              "      <th>Churn</th>\n",
              "      <th>Lifetime</th>\n",
              "    </tr>\n",
              "  </thead>\n",
              "  <tbody>\n",
              "    <tr>\n",
              "      <th>10</th>\n",
              "      <td>IN</td>\n",
              "      <td>65</td>\n",
              "      <td>415</td>\n",
              "      <td>False</td>\n",
              "      <td>False</td>\n",
              "      <td>0</td>\n",
              "      <td>129.1</td>\n",
              "      <td>137</td>\n",
              "      <td>21.95</td>\n",
              "      <td>228.5</td>\n",
              "      <td>83</td>\n",
              "      <td>19.42</td>\n",
              "      <td>208.8</td>\n",
              "      <td>111</td>\n",
              "      <td>9.40</td>\n",
              "      <td>12.7</td>\n",
              "      <td>6</td>\n",
              "      <td>3.43</td>\n",
              "      <td>4</td>\n",
              "      <td>1</td>\n",
              "      <td>67</td>\n",
              "    </tr>\n",
              "    <tr>\n",
              "      <th>15</th>\n",
              "      <td>NY</td>\n",
              "      <td>161</td>\n",
              "      <td>415</td>\n",
              "      <td>False</td>\n",
              "      <td>False</td>\n",
              "      <td>0</td>\n",
              "      <td>332.9</td>\n",
              "      <td>67</td>\n",
              "      <td>56.59</td>\n",
              "      <td>317.8</td>\n",
              "      <td>97</td>\n",
              "      <td>27.01</td>\n",
              "      <td>160.6</td>\n",
              "      <td>128</td>\n",
              "      <td>7.23</td>\n",
              "      <td>5.4</td>\n",
              "      <td>9</td>\n",
              "      <td>1.46</td>\n",
              "      <td>4</td>\n",
              "      <td>1</td>\n",
              "      <td>176</td>\n",
              "    </tr>\n",
              "    <tr>\n",
              "      <th>21</th>\n",
              "      <td>CO</td>\n",
              "      <td>77</td>\n",
              "      <td>408</td>\n",
              "      <td>False</td>\n",
              "      <td>False</td>\n",
              "      <td>0</td>\n",
              "      <td>62.4</td>\n",
              "      <td>89</td>\n",
              "      <td>10.61</td>\n",
              "      <td>169.9</td>\n",
              "      <td>121</td>\n",
              "      <td>14.44</td>\n",
              "      <td>209.6</td>\n",
              "      <td>64</td>\n",
              "      <td>9.43</td>\n",
              "      <td>5.7</td>\n",
              "      <td>6</td>\n",
              "      <td>1.54</td>\n",
              "      <td>5</td>\n",
              "      <td>1</td>\n",
              "      <td>88</td>\n",
              "    </tr>\n",
              "    <tr>\n",
              "      <th>33</th>\n",
              "      <td>AZ</td>\n",
              "      <td>12</td>\n",
              "      <td>408</td>\n",
              "      <td>False</td>\n",
              "      <td>False</td>\n",
              "      <td>0</td>\n",
              "      <td>249.6</td>\n",
              "      <td>118</td>\n",
              "      <td>42.43</td>\n",
              "      <td>252.4</td>\n",
              "      <td>119</td>\n",
              "      <td>21.45</td>\n",
              "      <td>280.2</td>\n",
              "      <td>90</td>\n",
              "      <td>12.61</td>\n",
              "      <td>11.8</td>\n",
              "      <td>3</td>\n",
              "      <td>3.19</td>\n",
              "      <td>1</td>\n",
              "      <td>1</td>\n",
              "      <td>89</td>\n",
              "    </tr>\n",
              "    <tr>\n",
              "      <th>41</th>\n",
              "      <td>MD</td>\n",
              "      <td>135</td>\n",
              "      <td>408</td>\n",
              "      <td>True</td>\n",
              "      <td>True</td>\n",
              "      <td>41</td>\n",
              "      <td>173.1</td>\n",
              "      <td>85</td>\n",
              "      <td>29.43</td>\n",
              "      <td>203.9</td>\n",
              "      <td>107</td>\n",
              "      <td>17.33</td>\n",
              "      <td>122.2</td>\n",
              "      <td>78</td>\n",
              "      <td>5.50</td>\n",
              "      <td>14.6</td>\n",
              "      <td>15</td>\n",
              "      <td>3.94</td>\n",
              "      <td>0</td>\n",
              "      <td>1</td>\n",
              "      <td>175</td>\n",
              "    </tr>\n",
              "  </tbody>\n",
              "</table>\n",
              "</div>"
            ],
            "text/plain": [
              "   State  Account length  Area code  ...  Customer service calls  Churn  Lifetime\n",
              "10    IN              65        415  ...                       4      1        67\n",
              "15    NY             161        415  ...                       4      1       176\n",
              "21    CO              77        408  ...                       5      1        88\n",
              "33    AZ              12        408  ...                       1      1        89\n",
              "41    MD             135        408  ...                       0      1       175\n",
              "\n",
              "[5 rows x 21 columns]"
            ]
          },
          "metadata": {},
          "execution_count": 4
        }
      ]
    },
    {
      "cell_type": "code",
      "metadata": {
        "colab": {
          "base_uri": "https://localhost:8080/",
          "height": 298
        },
        "id": "gkHoBZGtQJqS",
        "outputId": "4918bf93-6b37-4ed5-f6a2-4949f6a00677"
      },
      "source": [
        "#Распределение ушедших клиентов по признаку Lifetime\n",
        "\n",
        "df[df['Churn']==1]['Lifetime'].hist(bins=n_churn)\n",
        "plt.xlabel('Lifetime', fontsize=12)\n",
        "plt.title('Распределение ушедших клиентов по признаку Lifetime', fontsize=14);"
      ],
      "execution_count": null,
      "outputs": [
        {
          "output_type": "display_data",
          "data": {
            "image/png": "[encoded data removed]",
            "text/plain": [
              "<Figure size 432x288 with 1 Axes>"
            ]
          },
          "metadata": {
            "needs_background": "light"
          }
        }
      ]
    },
    {
      "cell_type": "code",
      "metadata": {
        "id": "Lmbp1tkerf6M"
      },
      "source": [
        "#Сортируем клиентов от самых старых до новых\n",
        "\n",
        "df = df.sort_values(['Lifetime'], ascending=False)"
      ],
      "execution_count": 5,
      "outputs": []
    },
    {
      "cell_type": "code",
      "metadata": {
        "id": "bj3jAQJ_5vwn"
      },
      "source": [
        "#Удаляем из признаков линейно-зависимые и штат\n",
        " \n",
        "y = df['Churn']\n",
        "X = df.drop(['Churn', 'State','Total day minutes','Total eve minutes','Total night minutes','Total intl minutes', 'Lifetime'], axis=1)"
      ],
      "execution_count": null,
      "outputs": []
    },
    {
      "cell_type": "code",
      "metadata": {
        "id": "5PDmEH_kWf_i"
      },
      "source": [
        "#Разбиваем исходную выборку на тестовую и обучающую\n",
        "\n",
        "X_train, X_test, y_train, y_test = train_test_split(X, y, test_size=0.5, random_state=42)"
      ],
      "execution_count": null,
      "outputs": []
    },
    {
      "cell_type": "markdown",
      "metadata": {
        "id": "uqD-D26-usNt"
      },
      "source": [
        "##Построим новую базовую модель (случайный лес) на упорядоченных данных"
      ]
    },
    {
      "cell_type": "markdown",
      "metadata": {
        "id": "oTDz2U6011NI"
      },
      "source": [
        "Наш датасет был отсортирован по времени, поэтому потребовалось построить новую базовая модель. После этого были подобраны оптимальные параметры для случайного леса и бустинга.\n"
      ]
    },
    {
      "cell_type": "code",
      "metadata": {
        "id": "4d7TJh2Ihnvh"
      },
      "source": [
        "# Инициализируем случайный лес с максимальной длиной 4\n",
        "\n",
        "rfc_base_model = RandomForestClassifier(max_depth=4, random_state=42, n_jobs=-1)"
      ],
      "execution_count": null,
      "outputs": []
    },
    {
      "cell_type": "code",
      "metadata": {
        "colab": {
          "base_uri": "https://localhost:8080/"
        },
        "id": "RJWQf961S9xz",
        "outputId": "76ec60ea-932e-4c29-b531-09cdfedb056a"
      },
      "source": [
        "#Обучаем случайный лес и оцениванием качество модели на тестовой выборке\n",
        "\n",
        "rfc_base_model.fit(X_train, y_train)\n",
        "pred_proba = rfc_base_model.predict_proba(X_test)\n",
        "roc_score_rfc_base = roc_auc_score(y_test, pred_proba[:, 1])\n",
        "print('roc на test', roc_score_rfc_base)"
      ],
      "execution_count": null,
      "outputs": [
        {
          "output_type": "stream",
          "text": [
            "roc на test 0.8819355346973687\n"
          ],
          "name": "stdout"
        }
      ]
    },
    {
      "cell_type": "code",
      "metadata": {
        "colab": {
          "base_uri": "https://localhost:8080/"
        },
        "id": "abZvrDjR9MeW",
        "outputId": "e3e021bb-49ab-4cd3-9e55-ffc1c16b4863"
      },
      "source": [
        "#Оцениванием качество модели методом кросс-валидации\n",
        "\n",
        "cv_scores = cross_val_score(rfc_base_model, X_train, y_train, scoring='roc_auc', cv=5, n_jobs=-1)\n",
        "mean_roc_auc = np.mean(cv_scores)\n",
        "cv_scores = cross_val_score(rfc_base_model, X_train, y_train, scoring='precision', cv=5, n_jobs=-1)\n",
        "mean_precision = np.mean(cv_scores)\n",
        "cv_scores = cross_val_score(rfc_base_model, X_train, y_train, scoring='recall', cv=5, n_jobs=-1)\n",
        "mean_recall = np.mean(cv_scores)\n",
        "print('mean roc_auc', mean_roc_auc)\n",
        "print('mean precision', mean_precision)\n",
        "print('mean recall', mean_recall)"
      ],
      "execution_count": null,
      "outputs": [
        {
          "output_type": "stream",
          "text": [
            "mean roc_auc 0.9123981814534826\n",
            "mean precision 0.8\n",
            "mean recall 0.08640148011100832\n"
          ],
          "name": "stdout"
        }
      ]
    },
    {
      "cell_type": "markdown",
      "metadata": {
        "id": "2-K4LpDoIavD"
      },
      "source": [
        "##Улучшение модели: случайный лес"
      ]
    },
    {
      "cell_type": "markdown",
      "metadata": {
        "id": "q63j1-9R4Zrg"
      },
      "source": [
        "Проведем подбор параметров модели с помощью GridSearchCV."
      ]
    },
    {
      "cell_type": "code",
      "metadata": {
        "id": "tkQJhRjyJPqm"
      },
      "source": [
        "'''\n",
        "grid = {'max_depth': [3, 4 ,5 ,6, 10, 13],\n",
        "        'n_estimators': [100, 200, 300, 400],\n",
        "        'criterion': ['gini', 'entropy']}\n",
        "'''"
      ],
      "execution_count": null,
      "outputs": []
    },
    {
      "cell_type": "code",
      "metadata": {
        "colab": {
          "base_uri": "https://localhost:8080/"
        },
        "id": "gtnJkZLhJPqm",
        "outputId": "e847a4d5-4cfc-4bf7-9df6-4a404d832b7e"
      },
      "source": [
        "'''\n",
        "rfc_model = RandomForestClassifier(random_state=42, n_jobs=-1, oob_score=True)\n",
        "clf = GridSearchCV(rfc_model, grid, n_jobs=-1, \n",
        "                   cv=5, \n",
        "                   scoring='roc_auc',\n",
        "                   verbose=5)\n",
        "\n",
        "clf.fit(X_train,y_train)\n",
        "'''"
      ],
      "execution_count": null,
      "outputs": [
        {
          "output_type": "stream",
          "text": [
            "Fitting 5 folds for each of 48 candidates, totalling 240 fits\n"
          ],
          "name": "stdout"
        },
        {
          "output_type": "stream",
          "text": [
            "[Parallel(n_jobs=-1)]: Using backend LokyBackend with 2 concurrent workers.\n",
            "[Parallel(n_jobs=-1)]: Done  14 tasks      | elapsed:    7.6s\n",
            "[Parallel(n_jobs=-1)]: Done  68 tasks      | elapsed:   39.2s\n",
            "[Parallel(n_jobs=-1)]: Done 158 tasks      | elapsed:  1.7min\n",
            "[Parallel(n_jobs=-1)]: Done 240 out of 240 | elapsed:  2.7min finished\n"
          ],
          "name": "stderr"
        },
        {
          "output_type": "execute_result",
          "data": {
            "text/plain": [
              "GridSearchCV(cv=5, error_score=nan,\n",
              "             estimator=RandomForestClassifier(bootstrap=True, ccp_alpha=0.0,\n",
              "                                              class_weight=None,\n",
              "                                              criterion='gini', max_depth=None,\n",
              "                                              max_features='auto',\n",
              "                                              max_leaf_nodes=None,\n",
              "                                              max_samples=None,\n",
              "                                              min_impurity_decrease=0.0,\n",
              "                                              min_impurity_split=None,\n",
              "                                              min_samples_leaf=1,\n",
              "                                              min_samples_split=2,\n",
              "                                              min_weight_fraction_leaf=0.0,\n",
              "                                              n_estimators=100, n_jobs=-1,\n",
              "                                              oob_score=True, random_state=42,\n",
              "                                              verbose=0, warm_start=False),\n",
              "             iid='deprecated', n_jobs=-1,\n",
              "             param_grid={'criterion': ['gini', 'entropy'],\n",
              "                         'max_depth': [3, 4, 5, 6, 10, 13],\n",
              "                         'n_estimators': [100, 200, 300, 400]},\n",
              "             pre_dispatch='2*n_jobs', refit=True, return_train_score=False,\n",
              "             scoring='roc_auc', verbose=5)"
            ]
          },
          "metadata": {},
          "execution_count": 510
        }
      ]
    },
    {
      "cell_type": "code",
      "metadata": {
        "colab": {
          "base_uri": "https://localhost:8080/"
        },
        "id": "GAYKJdxHgrf3",
        "outputId": "1f9150f0-e434-45a8-d8db-973847480393"
      },
      "source": [
        "'''\n",
        "rfc_params = clf.best_params_\n",
        "rfc_estimator = clf.best_estimator_\n",
        "rfc_score = clf.best_score_\n",
        "rfc_cv = clf.cv_results_\n",
        "print(rfc_params)\n",
        "print(rfc_estimator)\n",
        "print(rfc_score)\n",
        "#print(rfc_cv)\n",
        "'''"
      ],
      "execution_count": null,
      "outputs": [
        {
          "output_type": "stream",
          "text": [
            "{'criterion': 'entropy', 'max_depth': 10, 'n_estimators': 300}\n",
            "RandomForestClassifier(bootstrap=True, ccp_alpha=0.0, class_weight=None,\n",
            "                       criterion='entropy', max_depth=10, max_features='auto',\n",
            "                       max_leaf_nodes=None, max_samples=None,\n",
            "                       min_impurity_decrease=0.0, min_impurity_split=None,\n",
            "                       min_samples_leaf=1, min_samples_split=2,\n",
            "                       min_weight_fraction_leaf=0.0, n_estimators=300,\n",
            "                       n_jobs=-1, oob_score=True, random_state=42, verbose=0,\n",
            "                       warm_start=False)\n",
            "0.9292403091144095\n"
          ],
          "name": "stdout"
        }
      ]
    },
    {
      "cell_type": "markdown",
      "metadata": {
        "id": "cvWDB-MND1rI"
      },
      "source": [
        "Лучшее качество на кросс валидации 0.9292403091144095"
      ]
    },
    {
      "cell_type": "code",
      "metadata": {
        "colab": {
          "base_uri": "https://localhost:8080/"
        },
        "id": "IbyJona5guQD",
        "outputId": "901d0a52-ea0c-4bce-963b-905b61a6fb41"
      },
      "source": [
        "'''\n",
        "pred_proba_rfc = rfc_estimator.predict_proba(X_test)\n",
        "roc_score_rfc = roc_auc_score(y_test, pred_proba_rfc[:, 1])\n",
        "print('roc на test', roc_score_rfc)\n",
        "'''"
      ],
      "execution_count": null,
      "outputs": [
        {
          "output_type": "stream",
          "text": [
            "roc на test 0.9005841042609224\n"
          ],
          "name": "stdout"
        }
      ]
    },
    {
      "cell_type": "markdown",
      "metadata": {
        "id": "epscEwVBEDvO"
      },
      "source": [
        "Качество на тесте 0.9005841042609224"
      ]
    },
    {
      "cell_type": "markdown",
      "metadata": {
        "id": "TMyYxzrT-rY3"
      },
      "source": [
        "##Улучшение модели: бустинг"
      ]
    },
    {
      "cell_type": "markdown",
      "metadata": {
        "id": "702M5EHD2rVB"
      },
      "source": [
        "Проведем подбор параметров модели с помощью GridSearchCV."
      ]
    },
    {
      "cell_type": "code",
      "metadata": {
        "id": "qkUlWc15YjK4"
      },
      "source": [
        "'''\n",
        "grid = {'max_depth': [None, 3, 4 ,5 ,6],\n",
        "        'learning_rate': [0 , 0.01, 0.1, 0.3],\n",
        "        'n_estimators': [100, 200, 300, 500],\n",
        "        'reg_alpha': [0 , 0.01, 0.1, 0.3],\n",
        "        'reg_lambda': [0 , 0.01, 0.1, 0.3],}\n",
        "'''\n",
        "    \n"
      ],
      "execution_count": null,
      "outputs": []
    },
    {
      "cell_type": "code",
      "metadata": {
        "colab": {
          "base_uri": "https://localhost:8080/"
        },
        "id": "ZLftiWp18hF_",
        "outputId": "a788129b-e135-4faa-cfc9-48a0677f28d9"
      },
      "source": [
        "'''\n",
        "xg_model = XGBClassifier(objective='binary:logistic', n_jobs=-1, random_state=42) \n",
        "\n",
        "clf = GridSearchCV(xg_model, grid, n_jobs=-1, \n",
        "                   cv=5, \n",
        "                   scoring='roc_auc',\n",
        "                   verbose=5)\n",
        "\n",
        "clf.fit(X_train, y_train)\n",
        "'''"
      ],
      "execution_count": null,
      "outputs": [
        {
          "metadata": {
            "tags": null
          },
          "name": "stdout",
          "output_type": "stream",
          "text": [
            "Fitting 5 folds for each of 1280 candidates, totalling 6400 fits\n"
          ]
        },
        {
          "output_type": "stream",
          "text": [
            "[Parallel(n_jobs=-1)]: Using backend LokyBackend with 2 concurrent workers.\n",
            "[Parallel(n_jobs=-1)]: Done  44 tasks      | elapsed:    0.3s\n",
            "[Parallel(n_jobs=-1)]: Done 556 tasks      | elapsed:   40.7s\n",
            "[Parallel(n_jobs=-1)]: Done 646 tasks      | elapsed:  1.2min\n",
            "[Parallel(n_jobs=-1)]: Done 772 tasks      | elapsed:  1.6min\n",
            "[Parallel(n_jobs=-1)]: Done 934 tasks      | elapsed:  2.6min\n",
            "[Parallel(n_jobs=-1)]: Done 1132 tasks      | elapsed:  3.5min\n",
            "[Parallel(n_jobs=-1)]: Done 1366 tasks      | elapsed:  5.1min\n",
            "[Parallel(n_jobs=-1)]: Done 1770 tasks      | elapsed:  7.2min\n",
            "[Parallel(n_jobs=-1)]: Done 2320 tasks      | elapsed:  8.6min\n",
            "[Parallel(n_jobs=-1)]: Done 2662 tasks      | elapsed: 10.3min\n",
            "[Parallel(n_jobs=-1)]: Done 3040 tasks      | elapsed: 12.7min\n",
            "[Parallel(n_jobs=-1)]: Done 3942 tasks      | elapsed: 15.9min\n",
            "[Parallel(n_jobs=-1)]: Done 4392 tasks      | elapsed: 18.2min\n",
            "[Parallel(n_jobs=-1)]: Done 5366 tasks      | elapsed: 21.6min\n",
            "[Parallel(n_jobs=-1)]: Done 5888 tasks      | elapsed: 23.7min\n",
            "[Parallel(n_jobs=-1)]: Done 6400 out of 6400 | elapsed: 26.0min finished\n"
          ],
          "name": "stderr"
        },
        {
          "output_type": "execute_result",
          "data": {
            "text/plain": [
              "GridSearchCV(cv=5, error_score=nan,\n",
              "             estimator=XGBClassifier(base_score=0.5, booster='gbtree',\n",
              "                                     colsample_bylevel=1, colsample_bynode=1,\n",
              "                                     colsample_bytree=1, gamma=0,\n",
              "                                     learning_rate=0.1, max_delta_step=0,\n",
              "                                     max_depth=3, min_child_weight=1,\n",
              "                                     missing=None, n_estimators=100, n_jobs=-1,\n",
              "                                     nthread=None, objective='binary:logistic',\n",
              "                                     random_state=42, reg_alpha=0, reg_lambda=1,\n",
              "                                     scale_pos_weight=1, seed=None, silent=None,\n",
              "                                     subsample=1, verbosity=1),\n",
              "             iid='deprecated', n_jobs=-1,\n",
              "             param_grid={'learning_rate': [0, 0.01, 0.1, 0.3],\n",
              "                         'max_depth': [None, 3, 4, 5, 6],\n",
              "                         'n_estimators': [100, 200, 300, 500],\n",
              "                         'reg_alpha': [0, 0.01, 0.1, 0.3],\n",
              "                         'reg_lambda': [0, 0.01, 0.1, 0.3]},\n",
              "             pre_dispatch='2*n_jobs', refit=True, return_train_score=False,\n",
              "             scoring='roc_auc', verbose=5)"
            ]
          },
          "metadata": {},
          "execution_count": 496
        }
      ]
    },
    {
      "cell_type": "code",
      "metadata": {
        "colab": {
          "base_uri": "https://localhost:8080/"
        },
        "id": "gcRFLrTCgfnE",
        "outputId": "63011105-873b-4357-b98c-5e25803ecf30"
      },
      "source": [
        "'''\n",
        "xg_params = clf.best_params_\n",
        "xg_estimator = clf.best_estimator_\n",
        "xg_score = clf.best_score_\n",
        "xg_cv = clf.cv_results_\n",
        "print(xg_params)\n",
        "print(xg_estimator)\n",
        "print(xg_score)\n",
        "#print(xg_cv)\n",
        "'''"
      ],
      "execution_count": null,
      "outputs": [
        {
          "output_type": "stream",
          "text": [
            "{'learning_rate': 0.1, 'max_depth': 4, 'n_estimators': 100, 'reg_alpha': 0.3, 'reg_lambda': 0.01}\n",
            "XGBClassifier(base_score=0.5, booster='gbtree', colsample_bylevel=1,\n",
            "              colsample_bynode=1, colsample_bytree=1, gamma=0,\n",
            "              learning_rate=0.1, max_delta_step=0, max_depth=4,\n",
            "              min_child_weight=1, missing=None, n_estimators=100, n_jobs=-1,\n",
            "              nthread=None, objective='binary:logistic', random_state=42,\n",
            "              reg_alpha=0.3, reg_lambda=0.01, scale_pos_weight=1, seed=None,\n",
            "              silent=None, subsample=1, verbosity=1)\n",
            "0.9312792372222439\n"
          ],
          "name": "stdout"
        }
      ]
    },
    {
      "cell_type": "markdown",
      "metadata": {
        "id": "KuV1y3P2DeJV"
      },
      "source": [
        "Лучшее качество на кросс валидации 0.9312792372222439"
      ]
    },
    {
      "cell_type": "code",
      "metadata": {
        "colab": {
          "base_uri": "https://localhost:8080/"
        },
        "id": "xtzMFskPZNHp",
        "outputId": "90d66fb4-a156-426f-924c-8f6869d36851"
      },
      "source": [
        "'''\n",
        "pred_proba_xg = xg_estimator.predict_proba(X_test)\n",
        "roc_score_xg = roc_auc_score(y_test, pred_proba_xg[:, 1])\n",
        "print('roc на test', roc_score_xg)\n",
        "'''"
      ],
      "execution_count": null,
      "outputs": [
        {
          "output_type": "stream",
          "text": [
            "roc на test 0.9074858757062145\n"
          ],
          "name": "stdout"
        }
      ]
    },
    {
      "cell_type": "markdown",
      "metadata": {
        "id": "cmoG6P-hDq_3"
      },
      "source": [
        "Качество на тесте 0.9074858757062145"
      ]
    },
    {
      "cell_type": "markdown",
      "metadata": {
        "id": "Oxv8E848U61z"
      },
      "source": [
        "##Улучшение модели: используем признак State для бустинга"
      ]
    },
    {
      "cell_type": "code",
      "metadata": {
        "id": "VZV6rXmKUQiP"
      },
      "source": [
        "state_enc = LabelEncoder()\n",
        "df[\"State\"] = state_enc.fit_transform(df[\"State\"])"
      ],
      "execution_count": null,
      "outputs": []
    },
    {
      "cell_type": "code",
      "metadata": {
        "id": "7sNdZdkxUa_R"
      },
      "source": [
        "#Удаляем из признаков линейно-зависимые и Lifetime\n",
        " \n",
        "y = df['Churn']\n",
        "X = df.drop(['Churn', 'Total day minutes', 'Total eve minutes', 'Total night minutes', 'Total intl minutes', 'Lifetime'], axis=1)"
      ],
      "execution_count": null,
      "outputs": []
    },
    {
      "cell_type": "code",
      "metadata": {
        "id": "KBbxsVDtUa_T"
      },
      "source": [
        "#Разбиваем исходную выборку на тестовую и обучающую\n",
        "\n",
        "X_train, X_test, y_train, y_test = train_test_split(X, y, test_size=0.5, random_state=42)"
      ],
      "execution_count": null,
      "outputs": []
    },
    {
      "cell_type": "markdown",
      "metadata": {
        "id": "W_RPskrK7VBG"
      },
      "source": [
        "Проведем подбор параметров модели с помощью GridSearchCV."
      ]
    },
    {
      "cell_type": "code",
      "metadata": {
        "id": "BTF3a3mvUtfy"
      },
      "source": [
        "'''\n",
        "grid = {'max_depth': [None, 3, 4 ,5 ,6],\n",
        "        'learning_rate': [0 , 0.01, 0.1, 0.3],\n",
        "        'n_estimators': [100, 200, 300, 500],\n",
        "        'reg_alpha': [0 , 0.01, 0.1, 0.3],\n",
        "        'reg_lambda': [0 , 0.01, 0.1, 0.3],}\n",
        "''' "
      ],
      "execution_count": null,
      "outputs": []
    },
    {
      "cell_type": "code",
      "metadata": {
        "colab": {
          "base_uri": "https://localhost:8080/"
        },
        "id": "unH2KS7EUtfz",
        "outputId": "cc33f625-9ad5-49fa-d5bb-a7982f65a641"
      },
      "source": [
        "'''\n",
        "xg_model = XGBClassifier(objective='binary:logistic', n_jobs=-1, random_state=42) \n",
        "\n",
        "clf = GridSearchCV(xg_model, grid, n_jobs=-1, \n",
        "                   cv=5, \n",
        "                   scoring='roc_auc',\n",
        "                   verbose=5)\n",
        "\n",
        "clf.fit(X_train, y_train)\n",
        "'''"
      ],
      "execution_count": null,
      "outputs": [
        {
          "output_type": "stream",
          "text": [
            "Fitting 5 folds for each of 1280 candidates, totalling 6400 fits\n"
          ],
          "name": "stdout"
        },
        {
          "output_type": "stream",
          "text": [
            "[Parallel(n_jobs=-1)]: Using backend LokyBackend with 2 concurrent workers.\n",
            "[Parallel(n_jobs=-1)]: Done  14 tasks      | elapsed:    1.5s\n",
            "[Parallel(n_jobs=-1)]: Done 446 tasks      | elapsed:   19.2s\n",
            "[Parallel(n_jobs=-1)]: Done 536 tasks      | elapsed:   40.3s\n",
            "[Parallel(n_jobs=-1)]: Done 662 tasks      | elapsed:  1.4min\n",
            "[Parallel(n_jobs=-1)]: Done 824 tasks      | elapsed:  2.0min\n",
            "[Parallel(n_jobs=-1)]: Done 1022 tasks      | elapsed:  3.2min\n",
            "[Parallel(n_jobs=-1)]: Done 1256 tasks      | elapsed:  4.9min\n",
            "[Parallel(n_jobs=-1)]: Done 1526 tasks      | elapsed:  6.7min\n",
            "[Parallel(n_jobs=-1)]: Done 2210 tasks      | elapsed:  8.9min\n",
            "[Parallel(n_jobs=-1)]: Done 2552 tasks      | elapsed: 10.7min\n",
            "[Parallel(n_jobs=-1)]: Done 2930 tasks      | elapsed: 13.1min\n",
            "[Parallel(n_jobs=-1)]: Done 3722 tasks      | elapsed: 16.1min\n",
            "[Parallel(n_jobs=-1)]: Done 4172 tasks      | elapsed: 18.5min\n",
            "[Parallel(n_jobs=-1)]: Done 4658 tasks      | elapsed: 21.2min\n",
            "[Parallel(n_jobs=-1)]: Done 5558 tasks      | elapsed: 24.0min\n",
            "[Parallel(n_jobs=-1)]: Done 6116 tasks      | elapsed: 26.6min\n",
            "[Parallel(n_jobs=-1)]: Done 6400 out of 6400 | elapsed: 27.9min finished\n"
          ],
          "name": "stderr"
        },
        {
          "output_type": "execute_result",
          "data": {
            "text/plain": [
              "GridSearchCV(cv=5, error_score=nan,\n",
              "             estimator=XGBClassifier(base_score=0.5, booster='gbtree',\n",
              "                                     colsample_bylevel=1, colsample_bynode=1,\n",
              "                                     colsample_bytree=1, gamma=0,\n",
              "                                     learning_rate=0.1, max_delta_step=0,\n",
              "                                     max_depth=3, min_child_weight=1,\n",
              "                                     missing=None, n_estimators=100, n_jobs=-1,\n",
              "                                     nthread=None, objective='binary:logistic',\n",
              "                                     random_state=42, reg_alpha=0, reg_lambda=1,\n",
              "                                     scale_pos_weight=1, seed=None, silent=None,\n",
              "                                     subsample=1, verbosity=1),\n",
              "             iid='deprecated', n_jobs=-1,\n",
              "             param_grid={'learning_rate': [0, 0.01, 0.1, 0.3],\n",
              "                         'max_depth': [None, 3, 4, 5, 6],\n",
              "                         'n_estimators': [100, 200, 300, 500],\n",
              "                         'reg_alpha': [0, 0.01, 0.1, 0.3],\n",
              "                         'reg_lambda': [0, 0.01, 0.1, 0.3]},\n",
              "             pre_dispatch='2*n_jobs', refit=True, return_train_score=False,\n",
              "             scoring='roc_auc', verbose=5)"
            ]
          },
          "metadata": {},
          "execution_count": 20
        }
      ]
    },
    {
      "cell_type": "code",
      "metadata": {
        "colab": {
          "base_uri": "https://localhost:8080/"
        },
        "id": "eaDJpROTUtf1",
        "outputId": "ff173a0c-2da4-436a-8553-bca11d40004b"
      },
      "source": [
        "'''\n",
        "xg_params = clf.best_params_\n",
        "xg_estimator = clf.best_estimator_\n",
        "xg_score = clf.best_score_\n",
        "xg_cv = clf.cv_results_\n",
        "print(xg_params)\n",
        "print(xg_estimator)\n",
        "print(xg_score)\n",
        "#print(xg_cv)\n",
        "'''"
      ],
      "execution_count": null,
      "outputs": [
        {
          "output_type": "stream",
          "text": [
            "{'learning_rate': 0.1, 'max_depth': 4, 'n_estimators': 100, 'reg_alpha': 0.1, 'reg_lambda': 0.01}\n",
            "XGBClassifier(base_score=0.5, booster='gbtree', colsample_bylevel=1,\n",
            "              colsample_bynode=1, colsample_bytree=1, gamma=0,\n",
            "              learning_rate=0.1, max_delta_step=0, max_depth=4,\n",
            "              min_child_weight=1, missing=None, n_estimators=100, n_jobs=-1,\n",
            "              nthread=None, objective='binary:logistic', random_state=42,\n",
            "              reg_alpha=0.1, reg_lambda=0.01, scale_pos_weight=1, seed=None,\n",
            "              silent=None, subsample=1, verbosity=1)\n",
            "0.9325733087787194\n"
          ],
          "name": "stdout"
        }
      ]
    },
    {
      "cell_type": "markdown",
      "metadata": {
        "id": "92V5bhe4EZI2"
      },
      "source": [
        "Лучшее качество на кросс валидации 0.9325733087787194"
      ]
    },
    {
      "cell_type": "code",
      "metadata": {
        "colab": {
          "base_uri": "https://localhost:8080/"
        },
        "id": "i80ECwlaUtf2",
        "outputId": "59704160-4f4a-4908-e61c-faefd27225c6"
      },
      "source": [
        "'''\n",
        "pred_proba_xg = xg_estimator.predict_proba(X_test)\n",
        "roc_score_xg = roc_auc_score(y_test, pred_proba_xg[:, 1])\n",
        "print('roc на test', roc_score_xg)\n",
        "'''"
      ],
      "execution_count": null,
      "outputs": [
        {
          "output_type": "stream",
          "text": [
            "roc на test 0.9094919756004232\n"
          ],
          "name": "stdout"
        }
      ]
    },
    {
      "cell_type": "markdown",
      "metadata": {
        "id": "YjOEzR10EfKS"
      },
      "source": [
        "Качество на тесте 0.9094919756004232"
      ]
    },
    {
      "cell_type": "markdown",
      "metadata": {
        "id": "i2SYnn4wfzyh"
      },
      "source": [
        "##Валидация модели"
      ]
    },
    {
      "cell_type": "markdown",
      "metadata": {
        "id": "0g_602gcf5Fs"
      },
      "source": [
        "Бустинг при добавлении признака State показал лучшее качество, используем эту модель."
      ]
    },
    {
      "cell_type": "code",
      "metadata": {
        "colab": {
          "base_uri": "https://localhost:8080/"
        },
        "id": "B9lKsGxkf32G",
        "outputId": "e327ef73-b32c-42ab-d186-513bbe2a22c3"
      },
      "source": [
        "xgb_model = XGBClassifier(n_estimators=100, learning_rate=0.1, random_state=42, reg_alpha=0.1, reg_lambda=0.01)\n",
        "xgb_model.fit(X_train, y_train)"
      ],
      "execution_count": null,
      "outputs": [
        {
          "output_type": "execute_result",
          "data": {
            "text/plain": [
              "XGBClassifier(base_score=0.5, booster='gbtree', colsample_bylevel=1,\n",
              "              colsample_bynode=1, colsample_bytree=1, gamma=0,\n",
              "              learning_rate=0.1, max_delta_step=0, max_depth=3,\n",
              "              min_child_weight=1, missing=None, n_estimators=100, n_jobs=1,\n",
              "              nthread=None, objective='binary:logistic', random_state=42,\n",
              "              reg_alpha=0.1, reg_lambda=0.01, scale_pos_weight=1, seed=None,\n",
              "              silent=None, subsample=1, verbosity=1)"
            ]
          },
          "metadata": {},
          "execution_count": 15
        }
      ]
    },
    {
      "cell_type": "code",
      "metadata": {
        "colab": {
          "base_uri": "https://localhost:8080/"
        },
        "id": "TSVCXVAKxzqy",
        "outputId": "6293d0b2-5a1a-4ac0-ed41-f83472ef0707"
      },
      "source": [
        "#Оценим качество модели на тестовой выборке\n",
        "\n",
        "pred_proba_xgb = xgb_model.predict_proba(X_test)\n",
        "roc_score_xgb = roc_auc_score(y_test, pred_proba_xgb[:, 1])\n",
        "print('roc на test', roc_score_xgb)"
      ],
      "execution_count": null,
      "outputs": [
        {
          "output_type": "stream",
          "text": [
            "roc на test 0.9019233799266212\n"
          ],
          "name": "stdout"
        }
      ]
    },
    {
      "cell_type": "code",
      "metadata": {
        "colab": {
          "base_uri": "https://localhost:8080/"
        },
        "id": "U7mk881FY62V",
        "outputId": "082ea5f4-b24f-4984-d841-e15c9190e93f"
      },
      "source": [
        "#Оценим качество модели на ткросс валидации\n",
        "\n",
        "cv_scores_roc_auc = cross_val_score(xgb_model, X_train, y_train, scoring='roc_auc', cv=5, n_jobs=-1)\n",
        "mean_roc_auc = np.mean(cv_scores_roc_auc)\n",
        "cv_scores = cross_val_score(xgb_model, X_train, y_train, scoring='precision', cv=5, n_jobs=-1)\n",
        "mean_precision = np.mean(cv_scores)\n",
        "cv_scores = cross_val_score(xgb_model, X_train, y_train, scoring='recall', cv=5, n_jobs=-1)\n",
        "mean_recall = np.mean(cv_scores)\n",
        "\n",
        "print('mean roc_auc', mean_roc_auc)\n",
        "print('mean precision', mean_precision)\n",
        "print('mean recall', mean_recall)\n"
      ],
      "execution_count": null,
      "outputs": [
        {
          "output_type": "stream",
          "text": [
            "mean roc_auc 0.9282482369506578\n",
            "mean precision 0.8938938254727729\n",
            "mean recall 0.6767807585568917\n"
          ],
          "name": "stdout"
        }
      ]
    },
    {
      "cell_type": "code",
      "metadata": {
        "colab": {
          "base_uri": "https://localhost:8080/",
          "height": 298
        },
        "id": "cnmgjzTFnXjE",
        "outputId": "2828e85a-bd69-4881-e20e-e777a31d308e"
      },
      "source": [
        "#Изобразим изменение качества модели по фолдам\n",
        "\n",
        "pd.Series(cv_scores_roc_auc).plot()\n",
        "plt.xlabel('Fold', fontsize=12)\n",
        "plt.ylabel('ROC-AUC', fontsize=12)\n",
        "plt.title('Качество модели по фолдам', fontsize=14);"
      ],
      "execution_count": null,
      "outputs": [
        {
          "output_type": "display_data",
          "data": {
            "image/png": "[encoded data removed]",
            "text/plain": [
              "<Figure size 432x288 with 1 Axes>"
            ]
          },
          "metadata": {
            "needs_background": "light"
          }
        }
      ]
    },
    {
      "cell_type": "markdown",
      "metadata": {
        "id": "nNI5FZdw-DkD"
      },
      "source": [
        "Мы наблюдаем несущественное изменение качества модели по фолдам относительно среднего значения. Модель ведет себя достаточно стабильно."
      ]
    },
    {
      "cell_type": "markdown",
      "metadata": {
        "id": "NXySF9wdihfZ"
      },
      "source": [
        "##Важность признаков,  интерпретируемость"
      ]
    },
    {
      "cell_type": "code",
      "metadata": {
        "colab": {
          "base_uri": "https://localhost:8080/",
          "height": 546
        },
        "id": "fQumccu-bwDW",
        "outputId": "1942fa97-ba54-4446-b6fb-cf47aaf47037"
      },
      "source": [
        "xgb_importances = pd.Series(xgb_model.feature_importances_)\n",
        "xgb_features = X.columns\n",
        "feats = {}\n",
        "\n",
        "for feature, importance in zip(xgb_features, xgb_importances):\n",
        "    feats[feature] = importance\n",
        "xgb_viz = pd.DataFrame.from_dict(feats, orient='index').rename(columns={0: 'Importance'})\n",
        "xgb_viz = xgb_viz.sort_values(by='Importance', ascending=False)\n",
        "xgb_viz = xgb_viz.reset_index()\n",
        "xgb_viz = xgb_viz.rename(columns={'index': 'Feature'})\n",
        "sns.set(font_scale = 5)\n",
        "sns.set(style=\"whitegrid\", color_codes=True, font_scale = 1.7)\n",
        "fig, ax = plt.subplots()\n",
        "fig.set_size_inches(15, 8)\n",
        "sns.barplot(x=xgb_viz['Importance'], y=xgb_viz['Feature'], data=xgb_viz, color='skyblue')\n",
        "plt.xlabel('Importance', fontsize=25, weight = 'bold')\n",
        "plt.ylabel('Feature', fontsize=25, weight = 'bold')\n",
        "plt.title('Feature Importance', fontsize=25, weight = 'bold')\n",
        "plt.show()"
      ],
      "execution_count": null,
      "outputs": [
        {
          "output_type": "display_data",
          "data": {
            "image/png": "[encoded data removed]",
            "text/plain": [
              "<Figure size 1080x576 with 1 Axes>"
            ]
          },
          "metadata": {}
        }
      ]
    },
    {
      "cell_type": "markdown",
      "metadata": {
        "id": "GIbtTQy2hiX_"
      },
      "source": [
        "Посмотрим на связь признака International plan с оттоком. Когда роуминг подключен, доля оттока намного выше."
      ]
    },
    {
      "cell_type": "code",
      "metadata": {
        "colab": {
          "base_uri": "https://localhost:8080/",
          "height": 295
        },
        "id": "-9WA4LNJhblw",
        "outputId": "9ae95f08-923f-4187-b160-6a08873a8420"
      },
      "source": [
        "sns.countplot(x=\"International plan\", hue=\"Churn\", data=df)\n",
        "plt.title('Распределение оттока от наличия роуминга');"
      ],
      "execution_count": 12,
      "outputs": [
        {
          "output_type": "display_data",
          "data": {
            "image/png": "[encoded data removed]",
            "text/plain": [
              "<Figure size 432x288 with 1 Axes>"
            ]
          },
          "metadata": {
            "needs_background": "light"
          }
        }
      ]
    },
    {
      "cell_type": "markdown",
      "metadata": {
        "id": "w924jLTgg1Ry"
      },
      "source": [
        "Посмотрим на распределение числа обращений в сервисный центр. Доля оттока сильно возрастает начиная с 4 звонков в сервисный центр."
      ]
    },
    {
      "cell_type": "code",
      "metadata": {
        "colab": {
          "base_uri": "https://localhost:8080/",
          "height": 295
        },
        "id": "l3KmQRiuguY-",
        "outputId": "83ae5998-b529-4a4f-c4ce-4ff441b20fe0"
      },
      "source": [
        "sns.countplot(x=\"Customer service calls\", hue=\"Churn\", data=df)\n",
        "plt.title('Распределение числа обращений в сервисный центр');"
      ],
      "execution_count": 15,
      "outputs": [
        {
          "output_type": "display_data",
          "data": {
            "image/png": "[encoded data removed]",
            "text/plain": [
              "<Figure size 432x288 with 1 Axes>"
            ]
          },
          "metadata": {
            "needs_background": "light"
          }
        }
      ]
    },
    {
      "cell_type": "markdown",
      "metadata": {
        "id": "2ub1OuGtByyw"
      },
      "source": [
        "Посмотрим на распределение суммы оплаты услуг днем среди лояльных/ушедших. \n",
        "В среднем ушедшие клиенты больше пользуются связью. Предположительно это связано с высокой стоимостью тарифа либо качеством обслужиания. Компании следует провести дополнительный анализ возможных причин."
      ]
    },
    {
      "cell_type": "code",
      "metadata": {
        "colab": {
          "base_uri": "https://localhost:8080/",
          "height": 295
        },
        "id": "mACL1WDrBxZm",
        "outputId": "f2f9a4cf-f5a8-4403-df06-60b7bb3997e3"
      },
      "source": [
        "sns.boxplot(x=\"Churn\", y=\"Total day charge\", data=df)\n",
        "plt.title('Распределение суммы оплаты услуг днем');"
      ],
      "execution_count": 17,
      "outputs": [
        {
          "output_type": "display_data",
          "data": {
            "image/png": "[encoded data removed]",
            "text/plain": [
              "<Figure size 432x288 with 1 Axes>"
            ]
          },
          "metadata": {
            "needs_background": "light"
          }
        }
      ]
    },
    {
      "cell_type": "markdown",
      "metadata": {
        "id": "WvyO1oFih4MB"
      },
      "source": [
        "Посмотрим на связь признака Voice mail plan с оттоком. Нет сильной связи, как в случае с роумингом."
      ]
    },
    {
      "cell_type": "code",
      "metadata": {
        "colab": {
          "base_uri": "https://localhost:8080/",
          "height": 295
        },
        "id": "H7QUfzn4hSie",
        "outputId": "c2554787-7f72-4d4b-db73-c58e51bb5ab8"
      },
      "source": [
        "sns.countplot(x=\"Voice mail plan\", hue=\"Churn\", data=df)\n",
        "plt.title('Распределение оттока от наличия голосой почты');"
      ],
      "execution_count": 18,
      "outputs": [
        {
          "output_type": "display_data",
          "data": {
            "image/png": "[encoded data removed]",
            "text/plain": [
              "<Figure size 432x288 with 1 Axes>"
            ]
          },
          "metadata": {
            "needs_background": "light"
          }
        }
      ]
    },
    {
      "cell_type": "markdown",
      "metadata": {
        "id": "Tm6XbIACpvEm"
      },
      "source": [
        "##Оценка работы модели на различных сегментах пользователей"
      ]
    },
    {
      "cell_type": "markdown",
      "metadata": {
        "id": "nVX5JEyLHN2E"
      },
      "source": [
        "Сегменты можно разделить по трем критериям:\n",
        "\n",
        "*   География - в нашем датасете это штаты\n",
        "*   Демография - у нас нет таких данных\n",
        "*   Поведение - дневные звонки, голосовая почта, длительность обслуживания\n"
      ]
    },
    {
      "cell_type": "markdown",
      "metadata": {
        "id": "rVlESOo8V6fX"
      },
      "source": [
        "**Проведем оценку качества модели по штатам.**"
      ]
    },
    {
      "cell_type": "code",
      "metadata": {
        "id": "0cuPNeUmoFcs"
      },
      "source": [
        "idx_df = len(df) // 2\n",
        "df_train = df[:idx_df].drop(['Total day minutes', 'Total eve minutes', 'Total night minutes', 'Total intl minutes', 'Lifetime'], axis=1)\n",
        "df_test = df[idx_df:].drop(['Total day minutes', 'Total eve minutes', 'Total night minutes', 'Total intl minutes', 'Lifetime'], axis=1)"
      ],
      "execution_count": null,
      "outputs": []
    },
    {
      "cell_type": "code",
      "metadata": {
        "colab": {
          "base_uri": "https://localhost:8080/",
          "height": 298
        },
        "id": "z_XiQfKCLfKC",
        "outputId": "a50ba677-ea4a-464a-ef85-68d745f0a6fb"
      },
      "source": [
        "roc_scores = []\n",
        "for state in df_test['State'].unique():\n",
        "\n",
        "    X_test_state = df_test[df_test['State']==state].drop(['Churn'], axis=1)\n",
        "    y_test_state = df_test[df_test['State']==state]['Churn']\n",
        "    pred_proba = xgb_model.predict_proba(X_test_state)\n",
        "    try:\n",
        "        roc_scores.append(roc_auc_score(y_test_state, pred_proba[:, 1]))\n",
        "    except ValueError:\n",
        "        pass\n",
        "    \n",
        "pd.Series(roc_scores).plot()\n",
        "plt.xlabel('Штат', fontsize=12)\n",
        "plt.ylabel('ROC-AUC', fontsize=12)\n",
        "plt.title('Качество модели по штатам', fontsize=14);"
      ],
      "execution_count": null,
      "outputs": [
        {
          "output_type": "display_data",
          "data": {
            "image/png": "[encoded data removed]",
            "text/plain": [
              "<Figure size 432x288 with 1 Axes>"
            ]
          },
          "metadata": {
            "needs_background": "light"
          }
        }
      ]
    },
    {
      "cell_type": "markdown",
      "metadata": {
        "id": "FHGPwi5pVXjb"
      },
      "source": [
        "У нас недостаточно данных для качественной оценки по штатам. В некоторые штаты не попали оба класса отток/не оток."
      ]
    },
    {
      "cell_type": "markdown",
      "metadata": {
        "id": "A_zBHxIoeGhM"
      },
      "source": [
        "**Проведем оценку качества модели по наличию голосовой почты.**"
      ]
    },
    {
      "cell_type": "code",
      "metadata": {
        "id": "Gty0DCd4ppPG"
      },
      "source": [
        "X_voice_mail_test = df_test[df_test['Voice mail plan']==False].drop(['Churn'],axis=1)\n",
        "y_voice_mail_test = df_test[df_test['Voice mail plan']==False]['Churn']"
      ],
      "execution_count": null,
      "outputs": []
    },
    {
      "cell_type": "code",
      "metadata": {
        "colab": {
          "base_uri": "https://localhost:8080/"
        },
        "id": "bw5XwNbippPI",
        "outputId": "fa05d0e3-50b7-4951-e876-9072e60edf62"
      },
      "source": [
        "pred_proba_xgb_voice_mail = xgb_model.predict_proba(X_voice_mail_test)\n",
        "roc_score_xgb_voice_mail = roc_auc_score(y_voice_mail_test, pred_proba_xgb_voice_mail[:, 1])\n",
        "print('roc на test', roc_score_xgb_voice_mail)"
      ],
      "execution_count": null,
      "outputs": [
        {
          "output_type": "stream",
          "text": [
            "roc на test 0.953889093685818\n"
          ],
          "name": "stdout"
        }
      ]
    },
    {
      "cell_type": "markdown",
      "metadata": {
        "id": "70APlL_MeYyx"
      },
      "source": [
        "При отсутствии голосой почты качество модели выше среднего."
      ]
    },
    {
      "cell_type": "code",
      "metadata": {
        "id": "vJ6f2800r11T"
      },
      "source": [
        "X_voice_mail_test = df_test[df_test['Voice mail plan']==True].drop(['Churn'],axis=1)\n",
        "y_voice_mail_test = df_test[df_test['Voice mail plan']==True]['Churn']"
      ],
      "execution_count": null,
      "outputs": []
    },
    {
      "cell_type": "code",
      "metadata": {
        "colab": {
          "base_uri": "https://localhost:8080/"
        },
        "id": "Yl5K0junr11U",
        "outputId": "f1df254d-f58f-4848-8bf8-8fa021a133fe"
      },
      "source": [
        "pred_proba_xgb_voice_mail = xgb_model.predict_proba(X_voice_mail_test)\n",
        "roc_score_xgb_voice_mail = roc_auc_score(y_voice_mail_test, pred_proba_xgb_voice_mail[:, 1])\n",
        "print('roc на test', roc_score_xgb_voice_mail)"
      ],
      "execution_count": null,
      "outputs": [
        {
          "output_type": "stream",
          "text": [
            "roc на test 0.8752759381898455\n"
          ],
          "name": "stdout"
        }
      ]
    },
    {
      "cell_type": "markdown",
      "metadata": {
        "id": "LCTHxrKMei9S"
      },
      "source": [
        "При наличии голосой почты качество модели ниже среднего."
      ]
    },
    {
      "cell_type": "markdown",
      "metadata": {
        "id": "ZrlLPD2verBB"
      },
      "source": [
        "**Проведем оценку качества модели по оплате за дневные звонки.**"
      ]
    },
    {
      "cell_type": "code",
      "metadata": {
        "id": "MyoHszW_2Sr7"
      },
      "source": [
        "X_day_charge_test = df_test[df_test['Total day charge'] > 26].drop(['Churn'],axis=1)\n",
        "y_day_charge_test = df_test[df_test['Total day charge'] > 26]['Churn']"
      ],
      "execution_count": null,
      "outputs": []
    },
    {
      "cell_type": "code",
      "metadata": {
        "colab": {
          "base_uri": "https://localhost:8080/"
        },
        "id": "VAbuskpA2Sr9",
        "outputId": "600b25d3-b7c7-4034-947b-1a2021358b5c"
      },
      "source": [
        "pred_proba_xgb_day_charge = xgb_model.predict_proba(X_day_charge_test)\n",
        "roc_score_xgb_day_charge = roc_auc_score(y_day_charge_test, pred_proba_xgb_day_charge[:, 1])\n",
        "print('roc на test', roc_score_xgb_day_charge)"
      ],
      "execution_count": null,
      "outputs": [
        {
          "output_type": "stream",
          "text": [
            "roc на test 0.9571299871299872\n"
          ],
          "name": "stdout"
        }
      ]
    },
    {
      "cell_type": "markdown",
      "metadata": {
        "id": "MLQJDRkbfQIN"
      },
      "source": [
        "При оплате за дневные звонки выше 26 у.е. качество модели выше среднего."
      ]
    },
    {
      "cell_type": "code",
      "metadata": {
        "id": "R0mTnIhTfGKB"
      },
      "source": [
        "X_day_charge_test = df_test[df_test['Total day charge'] <= 26].drop(['Churn'],axis=1)\n",
        "y_day_charge_test = df_test[df_test['Total day charge'] <= 26]['Churn']"
      ],
      "execution_count": null,
      "outputs": []
    },
    {
      "cell_type": "code",
      "metadata": {
        "colab": {
          "base_uri": "https://localhost:8080/"
        },
        "id": "teAEsFOGfGKD",
        "outputId": "73369414-5647-4148-d5a0-1b53871cff35"
      },
      "source": [
        "pred_proba_xgb_day_charge = xgb_model.predict_proba(X_day_charge_test)\n",
        "roc_score_xgb_day_charge = roc_auc_score(y_day_charge_test, pred_proba_xgb_day_charge[:, 1])\n",
        "print('roc на test', roc_score_xgb_day_charge)"
      ],
      "execution_count": null,
      "outputs": [
        {
          "output_type": "stream",
          "text": [
            "roc на test 0.902281239359891\n"
          ],
          "name": "stdout"
        }
      ]
    },
    {
      "cell_type": "markdown",
      "metadata": {
        "id": "8RTXAjzEfdAu"
      },
      "source": [
        "При оплате за дневные звонки до 26 у.е. качество модели остается средним."
      ]
    },
    {
      "cell_type": "markdown",
      "metadata": {
        "id": "HK6j_CFifp-3"
      },
      "source": [
        "**Проведем оценку качества модели по длительности обслуживания.**"
      ]
    },
    {
      "cell_type": "code",
      "metadata": {
        "id": "AM9I_eBB9L72"
      },
      "source": [
        "X_account_length_test = df_test[df_test['Account length'] > 90].drop(['Churn'],axis=1)\n",
        "y_account_length_test = df_test[df_test['Account length'] > 90]['Churn']"
      ],
      "execution_count": null,
      "outputs": []
    },
    {
      "cell_type": "code",
      "metadata": {
        "colab": {
          "base_uri": "https://localhost:8080/"
        },
        "id": "cnTIiDAm9L74",
        "outputId": "517b4132-86f9-4adf-c7b0-d2bcbea4ea1a"
      },
      "source": [
        "pred_proba_xgb_account_length = xgb_model.predict_proba(X_account_length_test)\n",
        "roc_score_xgb_account_length = roc_auc_score(y_account_length_test, pred_proba_xgb_account_length[:, 1])\n",
        "print('roc на test', roc_score_xgb_account_length)"
      ],
      "execution_count": null,
      "outputs": [
        {
          "output_type": "stream",
          "text": [
            "roc на test 0.8364457831325302\n"
          ],
          "name": "stdout"
        }
      ]
    },
    {
      "cell_type": "markdown",
      "metadata": {
        "id": "ZRRZX-2Gf5kh"
      },
      "source": [
        "При обслуживании более 90 дней качество модели ниже среднего."
      ]
    },
    {
      "cell_type": "code",
      "metadata": {
        "id": "uj2ILW2q9mPs"
      },
      "source": [
        "X_account_length_test = df_test[df_test['Account length'] <= 90].drop(['Churn'],axis=1)\n",
        "y_account_length_test = df_test[df_test['Account length'] <= 90]['Churn']"
      ],
      "execution_count": null,
      "outputs": []
    },
    {
      "cell_type": "code",
      "metadata": {
        "colab": {
          "base_uri": "https://localhost:8080/"
        },
        "id": "_3JkOAdq9mPt",
        "outputId": "20cb8d24-ffe4-45bd-dcf0-cad9ce52cee4"
      },
      "source": [
        "pred_proba_xgb_account_length = xgb_model.predict_proba(X_account_length_test)\n",
        "roc_score_xgb_account_length = roc_auc_score(y_account_length_test, pred_proba_xgb_account_length[:, 1])\n",
        "print('roc на test', roc_score_xgb_account_length)"
      ],
      "execution_count": null,
      "outputs": [
        {
          "output_type": "stream",
          "text": [
            "roc на test 0.9554550318595263\n"
          ],
          "name": "stdout"
        }
      ]
    },
    {
      "cell_type": "markdown",
      "metadata": {
        "id": "VXA8lickgFn4"
      },
      "source": [
        "При обслуживании до 90 дней качество модели выше среднего."
      ]
    },
    {
      "cell_type": "markdown",
      "metadata": {
        "id": "XubWrpZTpzkA"
      },
      "source": [
        "##Деградация модели"
      ]
    },
    {
      "cell_type": "markdown",
      "metadata": {
        "id": "H8dK1fo-q2Hz"
      },
      "source": [
        "Будем последовательно оценивать изменение качества модели на новых данных по 2,5%."
      ]
    },
    {
      "cell_type": "code",
      "metadata": {
        "id": "BKeZCIogp4Ax"
      },
      "source": [
        "#Разобьем тестовый набор данных на 20 частей\n",
        "\n",
        "n_part = 20\n",
        "n_observ = len(y_test) // n_part\n",
        "\n",
        "for part in range(n_part - 1):\n",
        "    globals()[f'X_test{part}'] = X_test[part * n_observ : (part + 1) * n_observ]\n",
        "    globals()[f'y_test{part}'] = y_test[part * n_observ : (part + 1) * n_observ]\n",
        "globals()[f'X_test{part + 1}'] = X_test[(part + 1) * n_observ :]\n",
        "globals()[f'y_test{part + 1}'] = y_test[(part + 1) * n_observ :]"
      ],
      "execution_count": null,
      "outputs": []
    },
    {
      "cell_type": "code",
      "metadata": {
        "colab": {
          "base_uri": "https://localhost:8080/",
          "height": 298
        },
        "id": "wCnOtswZxjTk",
        "outputId": "bc765be9-4dbd-4410-8a86-d2e00ee4c784"
      },
      "source": [
        "#Последовательно оценим качество модели на полученных наборах данных\n",
        "\n",
        "roc_scores = []\n",
        "for part in range(n_part):\n",
        "    pred_proba = xgb_model.predict_proba(globals()[f'X_test{part}'])\n",
        "    roc_score = roc_auc_score(globals()[f'y_test{part}'], pred_proba[:, 1])\n",
        "    roc_scores.append(roc_score)\n",
        "\n",
        "pd.Series(roc_scores).plot()\n",
        "plt.xlabel('Часть', fontsize=12)\n",
        "plt.ylabel('ROC-AUC', fontsize=12)\n",
        "plt.title('Качество модели с течением времени', fontsize=14);"
      ],
      "execution_count": null,
      "outputs": [
        {
          "output_type": "display_data",
          "data": {
            "image/png": "[encoded data removed]",
            "text/plain": [
              "<Figure size 432x288 with 1 Axes>"
            ]
          },
          "metadata": {
            "needs_background": "light"
          }
        }
      ]
    },
    {
      "cell_type": "code",
      "metadata": {
        "colab": {
          "base_uri": "https://localhost:8080/"
        },
        "id": "yGDq0bdY4wZG",
        "outputId": "f78e5833-da96-427a-a145-6364d950c314"
      },
      "source": [
        "df['Lifetime'].describe()"
      ],
      "execution_count": null,
      "outputs": [
        {
          "output_type": "execute_result",
          "data": {
            "text/plain": [
              "count    3333.000000\n",
              "mean      106.845785\n",
              "std        43.455400\n",
              "min         1.000000\n",
              "25%        77.000000\n",
              "50%       105.000000\n",
              "75%       135.000000\n",
              "max       281.000000\n",
              "Name: Lifetime, dtype: float64"
            ]
          },
          "metadata": {},
          "execution_count": 51
        }
      ]
    },
    {
      "cell_type": "markdown",
      "metadata": {
        "id": "M142_IAL6jDO"
      },
      "source": [
        "Для обучения модели были взяты данные с 281 дня по 105, для оценки деградаци со 105 по 1. За данный период тенденция падения качества модели не обнаружена."
      ]
    }
  ]
}